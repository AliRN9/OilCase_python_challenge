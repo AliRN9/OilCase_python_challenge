{
 "cells": [
  {
   "cell_type": "markdown",
   "id": "6decaabd",
   "metadata": {},
   "source": [
    "# Вероятностная оценка запасов методом Монте-Карло"
   ]
  },
  {
   "cell_type": "markdown",
   "id": "cb795544",
   "metadata": {},
   "source": [
    "    1. Написание функции расчета запасов STOIIP "
   ]
  },
  {
   "cell_type": "code",
   "execution_count": 1,
   "id": "17e1fe87",
   "metadata": {},
   "outputs": [],
   "source": [
    "def STOIIP_base(rv, phi, s_oil, b_oil):\n",
    "    '''\n",
    "    STOIIP_base - основная функция для расчета запасов s_p\n",
    "    rv - объем породы, занятой нефтью\n",
    "    phi - пористость = объем пор / общий объем породы \n",
    "    s_oil = (1-s_water) - нефтенасыщенность \n",
    "\n",
    "    \n",
    "    '''\n",
    "    s_p = (rv*phi*s_oil)/b_oil\n",
    "    \n",
    "    return s_p"
   ]
  },
  {
   "cell_type": "code",
   "execution_count": 2,
   "id": "dfb99c1f",
   "metadata": {},
   "outputs": [],
   "source": [
    "def STOIIP_det(grv, phi, s_oil, b_oil,ntg): #используем эту\n",
    "    '''\n",
    "    STOIIP_det - детерменированная  функция для расчета запасов s_p // наилучшая техническая \n",
    "    grv - общий объем породы\n",
    "    phi - пористость\n",
    "    s_oil = (1-s_water) - нефтенасыщенность \n",
    "    b_oil = rb/stb - коэффициент нефтеобразования > 1 // объемный коэффициент: отношение объема нефти при пластовом\n",
    "    давлении к объему нефти в стандартных условиях \n",
    "    ntg - песчанистость (отношение эффективной проницаемой толщины (коллектора) к общей толщине (коллектор+неколлектор))\n",
    "    \n",
    "    '''\n",
    "    s_p = 7758*(grv*phi*s_oil*ntg)/b_oil\n",
    "    \n",
    "    return s_p"
   ]
  },
  {
   "cell_type": "markdown",
   "id": "b92d9cbe",
   "metadata": {},
   "source": [
    "    2. Диапазоны неопределённости"
   ]
  },
  {
   "cell_type": "markdown",
   "id": "e0a23fbc",
   "metadata": {},
   "source": [
    "Нефтенасыщенность: $ s_{o} \\in [0.6, 0.9] $\n",
    "\n",
    "Объемный коэффициент нефти: $ b_{o} \\in [1.2, 1.8] $ 1.2 – 1.8\n",
    "\n",
    "Пористость $\\phi \\in [0.05, 0.5] $\n",
    "\n",
    "Общий объем породы $grv \\in [114000000,189750000]$\n",
    "\n",
    "Песчанистость $ntg \\in [0.72,0.94] $\n",
    "\n",
    "Дополнительно:\n",
    "Плотность пластовой:  780 – 840 кг/м3\n",
    "\n",
    "Плотность дегазированной:  840 – 870 кг/м3\n",
    "\n",
    "Коэффициент сжимаемости: 6-18 *10(-6) МПа(-1)\n",
    " \n",
    " "
   ]
  },
  {
   "cell_type": "code",
   "execution_count": 3,
   "id": "b913a692",
   "metadata": {},
   "outputs": [],
   "source": [
    "import numpy as np \n",
    "from scipy. stats import norm\n",
    "import random\n",
    "import plotly.graph_objects as go\n",
    "import warnings\n",
    "import seaborn as sns\n",
    "import statsmodels.api as sm\n",
    "import matplotlib.pyplot as plt\n",
    "warnings.filterwarnings('ignore')"
   ]
  },
  {
   "cell_type": "code",
   "execution_count": 4,
   "id": "ddb8df29",
   "metadata": {},
   "outputs": [],
   "source": [
    "batchsize = 500"
   ]
  },
  {
   "cell_type": "code",
   "execution_count": 5,
   "id": "f8b3d730",
   "metadata": {},
   "outputs": [],
   "source": [
    "grv_borders   = [114000000,189750000]\n",
    "phi_borders = [0.05, 0.5] \n",
    "s_oil_borders = [0.6, 0.9]\n",
    "ntg_borders = [0.72,0.94]\n",
    "b_oil_borders = [1.1, 1.8]"
   ]
  },
  {
   "cell_type": "code",
   "execution_count": 6,
   "id": "b182ba16",
   "metadata": {},
   "outputs": [],
   "source": [
    "PARAMS = {\n",
    "    \"phi\": phi_borders,\n",
    "    \"s_oil\": s_oil_borders,\n",
    "    \"b_oil\": b_oil_borders,\n",
    "    \"grv\": grv_borders,\n",
    "    \"ntg\": ntg_borders\n",
    "    \n",
    "}"
   ]
  },
  {
   "cell_type": "code",
   "execution_count": 7,
   "id": "ef0b9deb",
   "metadata": {},
   "outputs": [],
   "source": [
    "DATA = {}"
   ]
  },
  {
   "cell_type": "code",
   "execution_count": 8,
   "id": "7d09e36b",
   "metadata": {},
   "outputs": [],
   "source": [
    "for name, param in PARAMS.items():\n",
    "\n",
    "    mu = (param[1] + param[0])/2\n",
    "    sigma = (mu - param[0])/4\n",
    "#     DATA[f'{name}'] = np.random.normal(mu, sigma, batchsize)  - использование другой библиотеки\n",
    "    DATA[f'{name}'] = norm.rvs(size = batchsize, loc=mu, scale=sigma)"
   ]
  },
  {
   "cell_type": "code",
   "execution_count": 9,
   "id": "3bfe0abd",
   "metadata": {},
   "outputs": [],
   "source": [
    "# print(DATA)"
   ]
  },
  {
   "cell_type": "code",
   "execution_count": 10,
   "id": "a494d580",
   "metadata": {},
   "outputs": [
    {
     "data": {
      "image/png": "[encoded data removed]",
      "text/plain": [
       "<Figure size 432x288 with 1 Axes>"
      ]
     },
     "metadata": {
      "needs_background": "light"
     },
     "output_type": "display_data"
    }
   ],
   "source": [
    "    '''\n",
    "    Проверка на нормальность распределения\n",
    "\n",
    "    '''\n",
    "sns.distplot(DATA['phi'], hist=True, kde=True,\n",
    "             bins=8, color = 'darkblue', \n",
    "             hist_kws={'edgecolor':'black'},\n",
    "             kde_kws={'linewidth': 4});"
   ]
  },
  {
   "cell_type": "markdown",
   "id": "15d72dc2",
   "metadata": {},
   "source": [
    "    3. Функция для выбора случайного числа из последовательности:"
   ]
  },
  {
   "cell_type": "code",
   "execution_count": 11,
   "id": "ef03f58c",
   "metadata": {},
   "outputs": [],
   "source": [
    "def random_value(set_params):\n",
    "    '''\n",
    "    set_params - сгенерированный набор параметров\n",
    "    value - случайное число из набора \n",
    "    '''\n",
    "    value = random.choice(set_params)\n",
    "    return value"
   ]
  },
  {
   "cell_type": "markdown",
   "id": "a249728a",
   "metadata": {},
   "source": [
    "    4. Применение метода Монте-Карло"
   ]
  },
  {
   "cell_type": "code",
   "execution_count": 12,
   "id": "a508e2e6",
   "metadata": {},
   "outputs": [],
   "source": [
    "N = 4000 \n",
    "\n",
    "#количество итераций - эмпирическим путем выбрано оптимальное значение 4000\n"
   ]
  },
  {
   "cell_type": "code",
   "execution_count": 13,
   "id": "e1fe2351",
   "metadata": {},
   "outputs": [],
   "source": [
    "reserve = [] #Создаем пустой список, в который будет добавлять значения запасов\n",
    "for i in range(N):\n",
    "    s_p = STOIIP_det(random_value(DATA['grv']), random_value(DATA['phi']), random_value(DATA['s_oil']),\n",
    "                     random_value(DATA['b_oil']),random_value(DATA['ntg']))\n",
    "    reserve.append(s_p)"
   ]
  },
  {
   "cell_type": "code",
   "execution_count": 14,
   "id": "2aaa33f3",
   "metadata": {},
   "outputs": [],
   "source": [
    "# print(reserve"
   ]
  },
  {
   "cell_type": "code",
   "execution_count": 16,
   "id": "a86c3f63",
   "metadata": {},
   "outputs": [
    {
     "data": {
      "text/plain": [
       "<AxesSubplot:ylabel='Count'>"
      ]
     },
     "execution_count": 16,
     "metadata": {},
     "output_type": "execute_result"
    },
    {
     "data": {
      "image/png": "[encoded data removed]",
      "text/plain": [
       "<Figure size 432x288 with 1 Axes>"
      ]
     },
     "metadata": {
      "needs_background": "light"
     },
     "output_type": "display_data"
    }
   ],
   "source": [
    "#Построим диаграмму \n",
    "sns.histplot(reserve,bins = 15,color='red') "
   ]
  },
  {
   "cell_type": "markdown",
   "id": "bceef5f0",
   "metadata": {},
   "source": [
    "    5. Построение графика ECDF"
   ]
  },
  {
   "cell_type": "code",
   "execution_count": 17,
   "id": "b48b287b",
   "metadata": {},
   "outputs": [
    {
     "name": "stdout",
     "output_type": "stream",
     "text": [
      "4001\n"
     ]
    },
    {
     "data": {
      "text/plain": [
       "[Text(0, 0.5, 'Персентиль'),\n",
       " Text(0.5, 0, 'Запасы, $м^{3}$'),\n",
       " Text(0.5, 1.0, 'График запасов')]"
      ]
     },
     "execution_count": 17,
     "metadata": {},
     "output_type": "execute_result"
    },
    {
     "data": {
      "image/png": "[encoded data removed]",
      "text/plain": [
       "<Figure size 432x288 with 1 Axes>"
      ]
     },
     "metadata": {
      "needs_background": "light"
     },
     "output_type": "display_data"
    }
   ],
   "source": [
    "ecdf = sm.distributions.ECDF(reserve) \n",
    "print(len(ecdf.x))\n",
    "sns.lineplot(ecdf.x, ecdf.y).set(ylabel='Персентиль',\n",
    " xlabel='Запасы, $м^{3}$',title='График запасов')"
   ]
  },
  {
   "cell_type": "markdown",
   "id": "d4dd216f",
   "metadata": {},
   "source": [
    "Отобразим на графике расположение персентилей"
   ]
  },
  {
   "cell_type": "code",
   "execution_count": 18,
   "id": "913b7fd2",
   "metadata": {},
   "outputs": [
    {
     "data": {
      "image/png": "[encoded data removed]",
      "text/plain": [
       "<Figure size 864x576 with 1 Axes>"
      ]
     },
     "metadata": {
      "needs_background": "light"
     },
     "output_type": "display_data"
    }
   ],
   "source": [
    "#data preparation for plotting, capturing important statistics \n",
    "ymedian = np.empty(len(reserve)+1) \n",
    "ymedian.fill(0.5) \n",
    "ymax = np.empty(len(reserve)+1) \n",
    "ymax.fill(np.max(ecdf.y)) \n",
    "ymin = np.empty(len(reserve)+1) \n",
    "ymin.fill(np.min(ecdf.y)) \n",
    "y25 = np.empty(len(reserve)+1) \n",
    "y25.fill(0.25) \n",
    "y75 = np.empty(len(reserve)+1) \n",
    "y75.fill(0.75) \n",
    "fig,ax = plt.subplots(figsize=(12, 8)) \n",
    "# Plot the data \n",
    "setosa_ecdf = ax.plot(ecdf.x,ecdf.y, label='Data',color = 'blue') \n",
    "# Plot the lines \n",
    "max_line = ax.plot(ecdf.x,ymax, label='Max', linestyle='--',color = '#001c58') \n",
    "y75_line = ax.plot(ecdf.x,y75, label='75Percentile', linestyle='--',color = '#ff7a69') \n",
    "med_line = ax.plot(ecdf.x,ymedian, label='Median', linestyle='--',color = '#fb6500') \n",
    "y25_line = ax.plot(ecdf.x,y25, label='25Percentile', linestyle='--',color = '#4fb4b1') \n",
    "min_line = ax.plot(ecdf.x,ymin, label='Min', linestyle='--',color = '#ffbb39') \n",
    "#annotate lines \n",
    "ax.annotate('Max/$100^{th}$ Персентиль',xy = (1,0.96),color = '#001c58') \n",
    "ax.annotate('$75^{th}$ Персентиль',xy = (1,0.69),color = '#ff7a69') \n",
    "ax.annotate('Median/$50^{th}$ Персентиль',xy = (1,0.46),color = '#fb6500') \n",
    "ax.annotate('$25^{th}$ Персентиль',xy = (1,0.21),color = '#4fb4b1') \n",
    "ax.annotate('Min/$1^{st}$ Персентиль',xy = (0.5e+11,0.04),color = '#ffbb39') \n",
    "#final and important bits \n",
    "plt.tight_layout() \n",
    "plt.title('График запасов ECDF') \n",
    "plt.xlabel('Запасы, $м^{3}$') \n",
    "plt.ylabel('Персентили') \n",
    "plt.show()"
   ]
  },
  {
   "cell_type": "code",
   "execution_count": null,
   "id": "7b8e377e",
   "metadata": {},
   "outputs": [],
   "source": []
  }
 ],
 "metadata": {
  "kernelspec": {
   "display_name": "Python 3 (ipykernel)",
   "language": "python",
   "name": "python3"
  },
  "language_info": {
   "codemirror_mode": {
    "name": "ipython",
    "version": 3
   },
   "file_extension": ".py",
   "mimetype": "text/x-python",
   "name": "python",
   "nbconvert_exporter": "python",
   "pygments_lexer": "ipython3",
   "version": "3.10.7"
  }
 },
 "nbformat": 4,
 "nbformat_minor": 5
}
