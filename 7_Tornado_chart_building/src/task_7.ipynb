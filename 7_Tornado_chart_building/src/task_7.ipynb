{
 "cells": [
  {
   "cell_type": "code",
   "execution_count": 1,
   "id": "8ce67d81",
   "metadata": {},
   "outputs": [],
   "source": [
    "import task_4_1 as data"
   ]
  },
  {
   "cell_type": "code",
   "execution_count": 2,
   "id": "79e35d1f",
   "metadata": {},
   "outputs": [],
   "source": [
    "# !pip install statsmodels"
   ]
  },
  {
   "cell_type": "code",
   "execution_count": 3,
   "id": "9452abdd",
   "metadata": {},
   "outputs": [],
   "source": [
    "import numpy as np\n",
    "import matplotlib.pyplot as plt\n",
    "import plotly.graph_objects as go\n",
    "import plotly.express as px\n",
    "import pandas as pd\n",
    "# import statsmodels.api as sm"
   ]
  },
  {
   "cell_type": "code",
   "execution_count": 4,
   "id": "ef2069f6",
   "metadata": {},
   "outputs": [],
   "source": [
    "def basis(params):\n",
    "    '''\n",
    "    params - сгенерированный набор параметров\n",
    "    params_avg - среднее значение \n",
    "    '''\n",
    "    params_avg = np.mean(params)\n",
    "    return params_avg"
   ]
  },
  {
   "cell_type": "code",
   "execution_count": 6,
   "id": "9762b142",
   "metadata": {},
   "outputs": [],
   "source": [
    "N = 100"
   ]
  },
  {
   "cell_type": "code",
   "execution_count": 7,
   "id": "7cdf7c9a",
   "metadata": {},
   "outputs": [
    {
     "name": "stdout",
     "output_type": "stream",
     "text": [
      "152.34741379182393\n"
     ]
    }
   ],
   "source": [
    "# Рассчитываем знание базового случая \n",
    "basic = data.STOIIP_det(basis(data.DATA['grv']), basis(data.DATA['phi']), basis(data.DATA['s_oil']),\n",
    "                     basis(data.DATA['b_oil']),basis(data.DATA['ntg']))/1000000000\n",
    "print (basic)"
   ]
  },
  {
   "cell_type": "code",
   "execution_count": 8,
   "id": "15ffc78d",
   "metadata": {},
   "outputs": [],
   "source": [
    "params = ['grv', 'phi', 's_oil', 'b_oil', 'ntg']\n",
    "future_df = {}"
   ]
  },
  {
   "cell_type": "code",
   "execution_count": null,
   "id": "af3aff88",
   "metadata": {},
   "outputs": [],
   "source": [
    "# Вариант с большим количеством ручной работы по написанию кода\n",
    "\n",
    "# reserve_grv = [] #Создаем пустой список, в который будет добавлять значения запасов\n",
    "# for i in range(N):\n",
    "#     s_p = data.STOIIP_det(data.random_value(data.DATA['grv']), basis(data.DATA['phi']), basis(data.DATA['s_oil']),\n",
    "#                      basis(data.DATA['b_oil']),basis(data.DATA['ntg']))\n",
    "#     reserve_grv.append(s_p/1000000000)\n",
    "# future_df['grv'] = [max(reserve_grv), min(reserve_grv)]\n",
    "\n",
    "# reserve_phi = [] #Создаем пустой список, в который будет добавлять значения запасов\n",
    "# for i in range(N):\n",
    "#     s_p = data.STOIIP_det(basis(data.DATA['grv']), data.random_value(data.DATA['phi']), basis(data.DATA['s_oil']),\n",
    "#                      basis(data.DATA['b_oil']),basis(data.DATA['ntg']))\n",
    "#     reserve_phi.append(s_p/1000000000)\n",
    "# future_df['phi'] = [max(reserve_phi), min(reserve_phi)]\n",
    "\n",
    "# reserve_soil = [] #Создаем пустой список, в который будет добавлять значения запасов\n",
    "# for i in range(N):\n",
    "#     s_p = data.STOIIP_det(basis(data.DATA['grv']), basis(data.DATA['phi']), data.random_value(data.DATA['s_oil']),\n",
    "#                      basis(data.DATA['b_oil']),basis(data.DATA['ntg']))\n",
    "#     reserve_soil.append(s_p/1000000000)\n",
    "# future_df['s_oil'] = [max(reserve_soil), min(reserve_soil)]\n",
    "\n",
    "# reserve_boil = [] #Создаем пустой список, в который будет добавлять значения запасов\n",
    "# for i in range(N):\n",
    "#     s_p = data.STOIIP_det(basis(data.DATA['grv']), basis(data.DATA['phi']), basis(data.DATA['s_oil']),\n",
    "#                     data.random_value(data.DATA['b_oil']),basis(data.DATA['ntg']))\n",
    "#     reserve_boil.append(s_p/1000000000)\n",
    "# future_df['b_oil'] = [max(reserve_boil), min(reserve_boil)]\n",
    "\n",
    "# reserve_ntg = [] #Создаем пустой список, в который будет добавлять значения запасов\n",
    "# for i in range(N):\n",
    "#     s_p = data.STOIIP_det(basis(data.DATA['grv']), basis(data.DATA['phi']), basis(data.DATA['s_oil']),\n",
    "#                      basis(data.DATA['b_oil']),data.random_value(data.DATA['ntg']))\n",
    "#     reserve_ntg.append(s_p/1000000000)\n",
    "# future_df['ntg'] = [max(reserve_ntg), min(reserve_ntg)]\n",
    "\n",
    "# df = pd.DataFrame.from_dict(future_df).T\n",
    "# df"
   ]
  },
  {
   "cell_type": "code",
   "execution_count": 44,
   "id": "4df7d875",
   "metadata": {},
   "outputs": [
    {
     "name": "stdout",
     "output_type": "stream",
     "text": [
      "              grv       phi     s_oil     b_oil       ntg         s_p\n",
      "0    1.295403e+08  0.300386  0.747848  1.447596  0.830904  129.583924\n",
      "1    1.607869e+08  0.300386  0.747848  1.447596  0.830904  160.841034\n",
      "2    1.662595e+08  0.300386  0.747848  1.447596  0.830904  166.315422\n",
      "3    1.596168e+08  0.300386  0.747848  1.447596  0.830904  159.670497\n",
      "4    1.446730e+08  0.300386  0.747848  1.447596  0.830904  144.721680\n",
      "..            ...       ...       ...       ...       ...         ...\n",
      "495  1.522962e+08  0.300386  0.747848  1.447596  0.838366  153.715632\n",
      "496  1.522962e+08  0.300386  0.747848  1.447596  0.843050  154.574502\n",
      "497  1.522962e+08  0.300386  0.747848  1.447596  0.867522  159.061531\n",
      "498  1.522962e+08  0.300386  0.747848  1.447596  0.888867  162.975121\n",
      "499  1.522962e+08  0.300386  0.747848  1.447596  0.840100  154.033594\n",
      "\n",
      "[500 rows x 6 columns]\n"
     ]
    }
   ],
   "source": [
    "#более автоматизированный вариант\n",
    "\n",
    "f_df = {}\n",
    "for i in range(len(params)):\n",
    "    #заполняем список средними значениями для всех параметров, кроме того интервала, который соответствует интервалу,\n",
    "    #в котором этот параметр будет генерироваться N раз\n",
    "    array = np.zeros(N * len(params))\n",
    "    for j in range(N * len(params)):\n",
    "        if ((j < i * N) or (j >= i * N + N)):\n",
    "            array[j] = basis(data.DATA[params[i]])\n",
    "        else:\n",
    "            array[j] = data.random_value(data.DATA[params[i]])\n",
    "\n",
    "    f_df[params[i]] = array.tolist()\n",
    "\n",
    "df_variables = pd.DataFrame.from_dict(f_df)\n",
    "\n",
    "\n",
    "df_variables['s_p'] = data.STOIIP_det(df_variables['grv'],df_variables['phi'], df_variables['s_oil'], \n",
    "                                    df_variables['b_oil'], df_variables['ntg'])/1000000000\n",
    "print(df_variables)\n",
    "\n",
    "for i in range(N, N * len(params) + 100,100):\n",
    "    future_df[params[int(i/N - 1)]] = [df_variables.s_p.iloc[i-N:i].max(), df_variables.s_p.iloc[i-N:i].min()]"
   ]
  },
  {
   "cell_type": "code",
   "execution_count": 45,
   "id": "a8fad4ce",
   "metadata": {},
   "outputs": [
    {
     "data": {
      "text/html": [
       "<div>\n",
       "<style scoped>\n",
       "    .dataframe tbody tr th:only-of-type {\n",
       "        vertical-align: middle;\n",
       "    }\n",
       "\n",
       "    .dataframe tbody tr th {\n",
       "        vertical-align: top;\n",
       "    }\n",
       "\n",
       "    .dataframe thead th {\n",
       "        text-align: right;\n",
       "    }\n",
       "</style>\n",
       "<table border=\"1\" class=\"dataframe\">\n",
       "  <thead>\n",
       "    <tr style=\"text-align: right;\">\n",
       "      <th></th>\n",
       "      <th>0</th>\n",
       "      <th>1</th>\n",
       "    </tr>\n",
       "  </thead>\n",
       "  <tbody>\n",
       "    <tr>\n",
       "      <th>phi</th>\n",
       "      <td>232.832219</td>\n",
       "      <td>98.784748</td>\n",
       "    </tr>\n",
       "    <tr>\n",
       "      <th>s_oil</th>\n",
       "      <td>169.343097</td>\n",
       "      <td>133.066739</td>\n",
       "    </tr>\n",
       "    <tr>\n",
       "      <th>b_oil</th>\n",
       "      <td>168.885618</td>\n",
       "      <td>133.328593</td>\n",
       "    </tr>\n",
       "    <tr>\n",
       "      <th>ntg</th>\n",
       "      <td>166.478877</td>\n",
       "      <td>133.839147</td>\n",
       "    </tr>\n",
       "    <tr>\n",
       "      <th>grv</th>\n",
       "      <td>173.547139</td>\n",
       "      <td>129.583924</td>\n",
       "    </tr>\n",
       "  </tbody>\n",
       "</table>\n",
       "</div>"
      ],
      "text/plain": [
       "                0           1\n",
       "phi    232.832219   98.784748\n",
       "s_oil  169.343097  133.066739\n",
       "b_oil  168.885618  133.328593\n",
       "ntg    166.478877  133.839147\n",
       "grv    173.547139  129.583924"
      ]
     },
     "execution_count": 45,
     "metadata": {},
     "output_type": "execute_result"
    }
   ],
   "source": [
    "df = pd.DataFrame.from_dict(future_df).T\n",
    "df"
   ]
  },
  {
   "cell_type": "code",
   "execution_count": 52,
   "id": "5d084955",
   "metadata": {},
   "outputs": [
    {
     "data": {
      "image/png": "[encoded data removed]",
      "text/plain": [
       "<Figure size 1000x500 with 1 Axes>"
      ]
     },
     "metadata": {},
     "output_type": "display_data"
    }
   ],
   "source": [
    "fig, ax = plt.subplots(figsize=(10, 5))\n",
    "for i in range(len(params)):\n",
    "    ax.barh(params[i], future_df[params[i]][0], left = basic, align='center', \n",
    "            height = 0.6,facecolor='white',edgecolor='black')\n",
    "    ax.barh(params[i], basic-future_df[params[i]][1], left=future_df[params[i]][1], align='center', \n",
    "            height = 0.6,facecolor='black',edgecolor='black')\n",
    "    \n",
    "    ax.text(future_df[params[i]][0]+ 155, params[i],'{:,.0f}'.format(future_df[params[i]][0]), \n",
    "            size = 15,color = \"black\")\n",
    "    ax.text(future_df[params[i]][1] - 25, params[i],'{:,.0f}'.format(future_df[params[i]][1]), \n",
    "            size = 15,color = \"black\")\n",
    "\n",
    "plt.axvline(x=basic, color='r')\n",
    "plt.figtext(0.33, 0.36, 'базовый случай', fontsize=10, rotation=90, color='r')\n",
    "    \n",
    "plt.xlim (50, 450)\n",
    "plt.xlabel('Запасы, млрд $м^{3}$')\n",
    "plt.suptitle('Торнадо-чарт',  fontsize = 20, weight=\"bold\")\n",
    "plt.title(\"Оценка влияния параметров на запасы\", fontsize = 10);"
   ]
  }
 ],
 "metadata": {
  "kernelspec": {
   "display_name": "Python 3 (ipykernel)",
   "language": "python",
   "name": "python3"
  },
  "language_info": {
   "codemirror_mode": {
    "name": "ipython",
    "version": 3
   },
   "file_extension": ".py",
   "mimetype": "text/x-python",
   "name": "python",
   "nbconvert_exporter": "python",
   "pygments_lexer": "ipython3",
   "version": "3.10.7"
  }
 },
 "nbformat": 4,
 "nbformat_minor": 5
}
